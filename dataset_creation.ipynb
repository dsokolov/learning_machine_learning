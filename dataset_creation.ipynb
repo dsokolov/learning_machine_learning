{
 "cells": [
  {
   "cell_type": "code",
   "execution_count": 2,
   "metadata": {},
   "outputs": [],
   "source": [
    "import random\n",
    "import csv"
   ]
  },
  {
   "cell_type": "code",
   "execution_count": 4,
   "metadata": {},
   "outputs": [],
   "source": [
    "# создаём датасет с суммой квадратов\n",
    "\n",
    "x1_min = -10.0\n",
    "x2_min = -10.0\n",
    "x1_max = 10.0\n",
    "x2_max = 10.0\n",
    "\n",
    "with open('data/simple_sq_sum.csv', 'w') as csvfile:\n",
    "    writer = csv.writer(csvfile)\n",
    "    writer.writerow([\"x1\", \"x2\", \"y\"])\n",
    "    for i in range(0, 10000):\n",
    "        x1 = random.uniform(x1_min, x1_max)\n",
    "        x2 = random.uniform(x2_min, x2_max)\n",
    "        y = x1*x1 + x2*x2 + random.uniform(-0.1, 0.1)\n",
    "        writer.writerow([x1, x2, y])\n"
   ]
  },
  {
   "cell_type": "code",
   "execution_count": null,
   "metadata": {},
   "outputs": [],
   "source": []
  }
 ],
 "metadata": {
  "kernelspec": {
   "display_name": "Python 3",
   "language": "python",
   "name": "python3"
  },
  "language_info": {
   "codemirror_mode": {
    "name": "ipython",
    "version": 3
   },
   "file_extension": ".py",
   "mimetype": "text/x-python",
   "name": "python",
   "nbconvert_exporter": "python",
   "pygments_lexer": "ipython3",
   "version": "3.6.7"
  }
 },
 "nbformat": 4,
 "nbformat_minor": 2
}
