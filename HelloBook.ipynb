{
 "cells": [
  {
   "cell_type": "code",
   "execution_count": 59,
   "metadata": {},
   "outputs": [],
   "source": [
    "import tensorflow as tf\n"
   ]
  },
  {
   "cell_type": "code",
   "execution_count": 61,
   "metadata": {},
   "outputs": [
    {
     "name": "stdout",
     "output_type": "stream",
     "text": [
      "[array([[0.]], dtype=float32)]\nINFO:tensorflow:Froze 2 variables.\n"
     ]
    },
    {
     "name": "stdout",
     "output_type": "stream",
     "text": [
      "INFO:tensorflow:Converted 2 variables to const ops.\n"
     ]
    }
   ],
   "source": [
    "# y = ax1 + bx2 + c\n",
    "\n",
    "tf.reset_default_graph()\n",
    "\n",
    "_a = tf.Variable(0.0, name=\"a\")\n",
    "_b = tf.Variable(0.0, name=\"b\")\n",
    "_c = tf.constant(0.0, name=\"c\")\n",
    "_x1 = tf.placeholder(tf.float32, name=\"x1\")\n",
    "_x2 = tf.placeholder(tf.float32, name=\"x2\")\n",
    "\n",
    "with tf.name_scope(\"part1\"):\n",
    "    mult1 = tf.multiply(_a, _x1)\n",
    "\n",
    "with tf.name_scope(\"part2\"):\n",
    "    mult2 = tf.multiply(_b, _x2)\n",
    "\n",
    "y = tf.add(tf.add(mult1, mult2), _c, name=\"y\")\n",
    "\n",
    "with tf.Session() as sess:\n",
    "    _a.initializer.run()\n",
    "    _b.initializer.run()\n",
    "\n",
    "    feed_dict = {\n",
    "        _x1: [[10]],\n",
    "        _x2: [[20]]\n",
    "    }\n",
    "    result = sess.run([y], feed_dict=feed_dict)\n",
    "    print(result)\n",
    "    train_writer = tf.summary.FileWriter('./logs/2/train', sess.graph)\n",
    "\n",
    "    output_graph_def = tf.graph_util.convert_variables_to_constants(\n",
    "        sess,  # The session is used to retrieve the weights\n",
    "        tf.get_default_graph().as_graph_def(),  # The graph_def is used to retrieve the nodes \n",
    "        [\"y\"]\n",
    "    )\n",
    "\n",
    "    output_graph = \"./models/2/frozen_model.pb\"\n",
    "    with tf.gfile.GFile(output_graph, \"wb\") as f:\n",
    "        f.write(output_graph_def.SerializeToString())\n"
   ]
  },
  {
   "cell_type": "code",
   "execution_count": 65,
   "metadata": {},
   "outputs": [
    {
     "name": "stdout",
     "output_type": "stream",
     "text": [
      "features [[ 11.750768]\n [ 43.38432 ]\n [100.76166 ]\n [185.64635 ]]\n"
     ]
    }
   ],
   "source": [
    "import tensorflow as tf\n",
    "\n",
    "tf.reset_default_graph()\n",
    "\n",
    "with tf.name_scope(\"input\"):\n",
    "    x = tf.placeholder(dtype=tf.float32, shape=(None, 2), name=\"x\")\n",
    "\n",
    "features_count = 7\n",
    "\n",
    "with tf.name_scope(\"features\"):\n",
    "    feature_1 = tf.slice(x, [0, 0], [-1, 1], name=\"feature_x1\")\n",
    "    feature_2 = tf.slice(x, [0, 1], [-1, 1], name=\"feature_x2\")\n",
    "    feature_3 = tf.multiply(feature_1, feature_2, name=\"feature_x1_x2\")\n",
    "    feature_4 = tf.multiply(feature_1, feature_1, name=\"feature_x1_x1\")\n",
    "    feature_5 = tf.multiply(feature_2, feature_2, name=\"feature_x2_x2\")\n",
    "    feature_6 = tf.sin(feature_1, name=\"feature_sin_x1\")\n",
    "    feature_7 = tf.sin(feature_2, name=\"feature_sin_x2\")\n",
    "\n",
    "with tf.name_scope(\"layer_1\"):\n",
    "    w1 = tf.Variable(1.0, dtype=tf.float32)\n",
    "    m1 = tf.multiply(feature_1, w1)\n",
    "    w2 = tf.Variable(1.0, dtype=tf.float32)\n",
    "    m2 = tf.multiply(feature_2, w2)\n",
    "    w3 = tf.Variable(1.0, dtype=tf.float32)\n",
    "    m3 = tf.multiply(feature_3, w3)\n",
    "    w4 = tf.Variable(1.0, dtype=tf.float32)\n",
    "    m4 = tf.multiply(feature_4, w4)\n",
    "    w5 = tf.Variable(1.0, dtype=tf.float32)\n",
    "    m5 = tf.multiply(feature_5, w5)\n",
    "    w6 = tf.Variable(1.0, dtype=tf.float32)\n",
    "    m6 = tf.multiply(feature_6, w6)\n",
    "    w7 = tf.Variable(1.0, dtype=tf.float32)\n",
    "    m7 = tf.multiply(feature_7, w7)\n",
    "    b = tf.Variable(0.0, dtype=tf.float32)\n",
    "\n",
    "prediction = tf.add(m1 + m2 + m3 + m4 + m5 + m6 + m7, b, \"result\")\n",
    "\n",
    "#     w = tf.Variable(tf.truncated_normal([features_count, 1], mean=0.0, stddev=1.0, dtype=tf.float32))\n",
    "#     b = tf.Variable(tf.zeros(1, dtype=tf.float32))\n",
    "#     layer_output = tf.add(b, tf.matmul(features, w), name=\"layer_output\")\n",
    "\n",
    "\n",
    "with tf.Session() as sess:\n",
    "    w1.initializer.run()\n",
    "    w2.initializer.run()\n",
    "    w3.initializer.run()\n",
    "    w4.initializer.run()\n",
    "    w5.initializer.run()\n",
    "    w6.initializer.run()\n",
    "    w7.initializer.run()\n",
    "    b.initializer.run()\n",
    "    \n",
    "    train_writer = tf.summary.FileWriter('logs/dnn/train', sess.graph)\n",
    "\n",
    "    feed_dict = {\n",
    "        x: [\n",
    "            [1, 2],\n",
    "            [3, 4],\n",
    "            [5, 6],\n",
    "            [7, 8]\n",
    "        ]\n",
    "    }\n",
    "    result = sess.run(fetches=[prediction], feed_dict=feed_dict)\n",
    "    print(\"features\", result[0])\n",
    "    # print(\"output\", result[1])\n"
   ]
  },
  {
   "cell_type": "code",
   "execution_count": 63,
   "metadata": {},
   "outputs": [],
   "source": []
  }
 ],
 "metadata": {
  "kernelspec": {
   "display_name": "Python 2",
   "language": "python",
   "name": "python2"
  },
  "language_info": {
   "codemirror_mode": {
    "name": "ipython",
    "version": 2
   },
   "file_extension": ".py",
   "mimetype": "text/x-python",
   "name": "python",
   "nbconvert_exporter": "python",
   "pygments_lexer": "ipython2",
   "version": "2.7.6"
  }
 },
 "nbformat": 4,
 "nbformat_minor": 0
}
