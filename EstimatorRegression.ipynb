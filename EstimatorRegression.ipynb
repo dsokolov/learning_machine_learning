{
 "cells": [
  {
   "cell_type": "code",
   "execution_count": 18,
   "metadata": {},
   "outputs": [],
   "source": [
    "import numpy as np\n",
    "import pandas as pd\n",
    "import tensorflow as tf"
   ]
  },
  {
   "cell_type": "code",
   "execution_count": 86,
   "metadata": {},
   "outputs": [
    {
     "data": {
      "text/html": [
       "<div>\n",
       "<style scoped>\n",
       "    .dataframe tbody tr th:only-of-type {\n",
       "        vertical-align: middle;\n",
       "    }\n",
       "\n",
       "    .dataframe tbody tr th {\n",
       "        vertical-align: top;\n",
       "    }\n",
       "\n",
       "    .dataframe thead th {\n",
       "        text-align: right;\n",
       "    }\n",
       "</style>\n",
       "<table border=\"1\" class=\"dataframe\">\n",
       "  <thead>\n",
       "    <tr style=\"text-align: right;\">\n",
       "      <th></th>\n",
       "      <th>x1</th>\n",
       "      <th>x2</th>\n",
       "      <th>y</th>\n",
       "    </tr>\n",
       "  </thead>\n",
       "  <tbody>\n",
       "    <tr>\n",
       "      <th>count</th>\n",
       "      <td>1000.000000</td>\n",
       "      <td>1000.000000</td>\n",
       "      <td>1000.000000</td>\n",
       "    </tr>\n",
       "    <tr>\n",
       "      <th>mean</th>\n",
       "      <td>0.155582</td>\n",
       "      <td>0.320792</td>\n",
       "      <td>65.285132</td>\n",
       "    </tr>\n",
       "    <tr>\n",
       "      <th>std</th>\n",
       "      <td>5.770767</td>\n",
       "      <td>5.649911</td>\n",
       "      <td>39.310109</td>\n",
       "    </tr>\n",
       "    <tr>\n",
       "      <th>min</th>\n",
       "      <td>-9.882128</td>\n",
       "      <td>-9.999302</td>\n",
       "      <td>0.142260</td>\n",
       "    </tr>\n",
       "    <tr>\n",
       "      <th>25%</th>\n",
       "      <td>-4.963285</td>\n",
       "      <td>-4.486459</td>\n",
       "      <td>34.214396</td>\n",
       "    </tr>\n",
       "    <tr>\n",
       "      <th>50%</th>\n",
       "      <td>0.352472</td>\n",
       "      <td>0.517567</td>\n",
       "      <td>61.602042</td>\n",
       "    </tr>\n",
       "    <tr>\n",
       "      <th>75%</th>\n",
       "      <td>5.357289</td>\n",
       "      <td>5.243427</td>\n",
       "      <td>92.409980</td>\n",
       "    </tr>\n",
       "    <tr>\n",
       "      <th>max</th>\n",
       "      <td>9.968177</td>\n",
       "      <td>9.952260</td>\n",
       "      <td>184.233414</td>\n",
       "    </tr>\n",
       "  </tbody>\n",
       "</table>\n",
       "</div>"
      ],
      "text/plain": [
       "                x1           x2            y\n",
       "count  1000.000000  1000.000000  1000.000000\n",
       "mean      0.155582     0.320792    65.285132\n",
       "std       5.770767     5.649911    39.310109\n",
       "min      -9.882128    -9.999302     0.142260\n",
       "25%      -4.963285    -4.486459    34.214396\n",
       "50%       0.352472     0.517567    61.602042\n",
       "75%       5.357289     5.243427    92.409980\n",
       "max       9.968177     9.952260   184.233414"
      ]
     },
     "execution_count": 86,
     "metadata": {},
     "output_type": "execute_result"
    }
   ],
   "source": [
    "df = pd.read_csv(\"./data/regression_2/regression_2.csv\")\n",
    "# df = pd.read_csv(\"./data/dataset.csv\")\n",
    "df.describe()"
   ]
  },
  {
   "cell_type": "code",
   "execution_count": 100,
   "metadata": {},
   "outputs": [],
   "source": [
    "def add_features(df):\n",
    "    result_df = df.copy()\n",
    "    result_df[\"feature_x1_mult_x2\"] = df.apply(lambda row: row[\"x1\"] * row[\"x2\"], axis=1)\n",
    "    result_df[\"feature_x1_mult_x1\"] = df.apply(lambda row: row[\"x1\"] * row[\"x1\"], axis=1)\n",
    "    result_df[\"feature_x2_mult_x2\"] = df.apply(lambda row: row[\"x2\"] * row[\"x2\"], axis=1)    \n",
    "    return result_df"
   ]
  },
  {
   "cell_type": "code",
   "execution_count": 101,
   "metadata": {},
   "outputs": [],
   "source": [
    "features_df = add_features(df)"
   ]
  },
  {
   "cell_type": "code",
   "execution_count": 102,
   "metadata": {},
   "outputs": [],
   "source": [
    "msk = np.random.rand(len(features_df)) < 0.8\n",
    "train_ds = features_df[msk]\n",
    "test_ds = features_df[~msk]"
   ]
  },
  {
   "cell_type": "code",
   "execution_count": 103,
   "metadata": {},
   "outputs": [],
   "source": [
    "def pd_input_fn(df, y_label):\n",
    "  return tf.estimator.inputs.pandas_input_fn(\n",
    "      x=df,\n",
    "      y=df[y_label],\n",
    "      batch_size = 32,\n",
    "      num_epochs = 5,\n",
    "      shuffle = True,\n",
    "      queue_capacity = 1000,\n",
    "      num_threads = 1\n",
    "  )\n",
    "\n",
    "def pd_predict_input_fn(df):\n",
    "  return tf.estimator.inputs.pandas_input_fn(\n",
    "      x=df,\n",
    "      batch_size = 32,\n",
    "      num_epochs = 5,\n",
    "      shuffle = True,\n",
    "      queue_capacity = 1000,\n",
    "      num_threads = 1\n",
    "  )"
   ]
  },
  {
   "cell_type": "code",
   "execution_count": 104,
   "metadata": {},
   "outputs": [
    {
     "name": "stdout",
     "output_type": "stream",
     "text": [
      "INFO:tensorflow:Using default config.\n",
      "INFO:tensorflow:Using config: {'_model_dir': './models/estimator_regression/', '_tf_random_seed': None, '_save_summary_steps': 100, '_save_checkpoints_steps': None, '_save_checkpoints_secs': 600, '_session_config': allow_soft_placement: true\n",
      "graph_options {\n",
      "  rewrite_options {\n",
      "    meta_optimizer_iterations: ONE\n",
      "  }\n",
      "}\n",
      ", '_keep_checkpoint_max': 5, '_keep_checkpoint_every_n_hours': 10000, '_log_step_count_steps': 100, '_train_distribute': None, '_device_fn': None, '_protocol': None, '_eval_distribute': None, '_experimental_distribute': None, '_service': None, '_cluster_spec': <tensorflow.python.training.server_lib.ClusterSpec object at 0x7f0684a03e10>, '_task_type': 'worker', '_task_id': 0, '_global_id_in_cluster': 0, '_master': '', '_evaluation_master': '', '_is_chief': True, '_num_ps_replicas': 0, '_num_worker_replicas': 1}\n",
      "INFO:tensorflow:Calling model_fn.\n",
      "INFO:tensorflow:Done calling model_fn.\n",
      "INFO:tensorflow:Create CheckpointSaverHook.\n",
      "INFO:tensorflow:Graph was finalized.\n",
      "INFO:tensorflow:Restoring parameters from ./models/estimator_regression/model.ckpt-125\n",
      "INFO:tensorflow:Running local_init_op.\n",
      "INFO:tensorflow:Done running local_init_op.\n",
      "INFO:tensorflow:Saving checkpoints for 125 into ./models/estimator_regression/model.ckpt.\n",
      "INFO:tensorflow:loss = 7.0608053, step = 126\n",
      "INFO:tensorflow:global_step/sec: 721.834\n",
      "INFO:tensorflow:loss = 10.201086, step = 226 (0.141 sec)\n",
      "INFO:tensorflow:Saving checkpoints for 253 into ./models/estimator_regression/model.ckpt.\n",
      "INFO:tensorflow:Loss for final step: 4.333781.\n"
     ]
    },
    {
     "data": {
      "text/plain": [
       "<tensorflow.python.estimator.canned.dnn.DNNRegressor at 0x7f06c41256d8>"
      ]
     },
     "execution_count": 104,
     "metadata": {},
     "output_type": "execute_result"
    }
   ],
   "source": [
    "feature_columns = [\n",
    "    tf.feature_column.numeric_column(key=\"x1\", dtype=tf.float32),\n",
    "    tf.feature_column.numeric_column(key=\"x2\", dtype=tf.float32),\n",
    "    tf.feature_column.numeric_column(key=\"feature_x1_mult_x2\", dtype=tf.float32),\n",
    "    tf.feature_column.numeric_column(key=\"feature_x1_mult_x1\", dtype=tf.float32),\n",
    "    tf.feature_column.numeric_column(key=\"feature_x2_mult_x2\", dtype=tf.float32),\n",
    "]\n",
    "estimator = tf.estimator.DNNRegressor(\n",
    "    hidden_units=[4,2],\n",
    "    feature_columns=feature_columns,\n",
    "    model_dir=\"./models/estimator_regression/\"\n",
    ")\n",
    "estimator.train(input_fn=pd_input_fn(train_ds, \"y\"))\n"
   ]
  },
  {
   "cell_type": "code",
   "execution_count": 105,
   "metadata": {},
   "outputs": [
    {
     "name": "stdout",
     "output_type": "stream",
     "text": [
      "INFO:tensorflow:Calling model_fn.\n",
      "INFO:tensorflow:Done calling model_fn.\n",
      "INFO:tensorflow:Starting evaluation at 2019-02-25-10:37:19\n",
      "INFO:tensorflow:Graph was finalized.\n",
      "INFO:tensorflow:Restoring parameters from ./models/estimator_regression/model.ckpt-253\n",
      "INFO:tensorflow:Running local_init_op.\n",
      "INFO:tensorflow:Done running local_init_op.\n",
      "INFO:tensorflow:Finished evaluation at 2019-02-25-10:37:20\n",
      "INFO:tensorflow:Saving dict for global step 253: average_loss = 0.22899656, global_step = 253, label/mean = 66.30532, loss = 7.2647185, prediction/mean = 66.400734\n",
      "INFO:tensorflow:Saving 'checkpoint_path' summary for global step 253: ./models/estimator_regression/model.ckpt-253\n"
     ]
    },
    {
     "data": {
      "text/plain": [
       "{'average_loss': 0.22899656,\n",
       " 'global_step': 253,\n",
       " 'label/mean': 66.30532,\n",
       " 'loss': 7.2647185,\n",
       " 'prediction/mean': 66.400734}"
      ]
     },
     "execution_count": 105,
     "metadata": {},
     "output_type": "execute_result"
    }
   ],
   "source": [
    "estimator.evaluate(input_fn=pd_input_fn(test_ds, \"y\"))\n"
   ]
  },
  {
   "cell_type": "code",
   "execution_count": 107,
   "metadata": {},
   "outputs": [
    {
     "name": "stdout",
     "output_type": "stream",
     "text": [
      "<generator object Estimator.predict at 0x7f068480c5c8>\n",
      "INFO:tensorflow:Calling model_fn.\n",
      "INFO:tensorflow:Done calling model_fn.\n",
      "INFO:tensorflow:Graph was finalized.\n",
      "INFO:tensorflow:Restoring parameters from ./models/estimator_regression/model.ckpt-253\n",
      "INFO:tensorflow:Running local_init_op.\n",
      "INFO:tensorflow:Done running local_init_op.\n",
      "[{'predictions': array([20.58233], dtype=float32)}, {'predictions': array([20.58233], dtype=float32)}, {'predictions': array([20.58233], dtype=float32)}, {'predictions': array([20.58233], dtype=float32)}, {'predictions': array([20.58233], dtype=float32)}]\n"
     ]
    }
   ],
   "source": [
    "estimate_df = add_features(pd.DataFrame(data={\"x1\":[2.0], \"x2\":[4.0]}))\n",
    "    \n",
    "\n",
    "predictions = estimator.predict(input_fn=pd_predict_input_fn(estimate_df))\n",
    "print(predictions)\n",
    "print(list(predictions))\n",
    "# print(list(predictions)[0])\n",
    "    "
   ]
  },
  {
   "cell_type": "code",
   "execution_count": null,
   "metadata": {},
   "outputs": [],
   "source": [
    "estimator.e"
   ]
  }
 ],
 "metadata": {
  "kernelspec": {
   "display_name": "Python 3",
   "language": "python",
   "name": "python3"
  },
  "language_info": {
   "codemirror_mode": {
    "name": "ipython",
    "version": 3
   },
   "file_extension": ".py",
   "mimetype": "text/x-python",
   "name": "python",
   "nbconvert_exporter": "python",
   "pygments_lexer": "ipython3",
   "version": "3.6.7"
  }
 },
 "nbformat": 4,
 "nbformat_minor": 1
}
