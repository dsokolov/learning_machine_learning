{
 "cells": [
  {
   "cell_type": "code",
   "execution_count": 1,
   "metadata": {},
   "outputs": [],
   "source": [
    "import numpy as np\n",
    "import pandas as pd\n",
    "import tensorflow as tf"
   ]
  },
  {
   "cell_type": "code",
   "execution_count": 15,
   "metadata": {},
   "outputs": [
    {
     "data": {
      "text/html": [
       "<div>\n",
       "<style scoped>\n",
       "    .dataframe tbody tr th:only-of-type {\n",
       "        vertical-align: middle;\n",
       "    }\n",
       "\n",
       "    .dataframe tbody tr th {\n",
       "        vertical-align: top;\n",
       "    }\n",
       "\n",
       "    .dataframe thead th {\n",
       "        text-align: right;\n",
       "    }\n",
       "</style>\n",
       "<table border=\"1\" class=\"dataframe\">\n",
       "  <thead>\n",
       "    <tr style=\"text-align: right;\">\n",
       "      <th></th>\n",
       "      <th>x1</th>\n",
       "      <th>x2</th>\n",
       "      <th>y</th>\n",
       "    </tr>\n",
       "  </thead>\n",
       "  <tbody>\n",
       "    <tr>\n",
       "      <th>count</th>\n",
       "      <td>10000.000000</td>\n",
       "      <td>10000.000000</td>\n",
       "      <td>10000.000000</td>\n",
       "    </tr>\n",
       "    <tr>\n",
       "      <th>mean</th>\n",
       "      <td>0.007651</td>\n",
       "      <td>-0.060636</td>\n",
       "      <td>67.106032</td>\n",
       "    </tr>\n",
       "    <tr>\n",
       "      <th>std</th>\n",
       "      <td>5.792158</td>\n",
       "      <td>5.793058</td>\n",
       "      <td>42.506245</td>\n",
       "    </tr>\n",
       "    <tr>\n",
       "      <th>min</th>\n",
       "      <td>-9.999530</td>\n",
       "      <td>-9.997501</td>\n",
       "      <td>-0.049575</td>\n",
       "    </tr>\n",
       "    <tr>\n",
       "      <th>25%</th>\n",
       "      <td>-5.032269</td>\n",
       "      <td>-5.107907</td>\n",
       "      <td>32.112377</td>\n",
       "    </tr>\n",
       "    <tr>\n",
       "      <th>50%</th>\n",
       "      <td>0.010792</td>\n",
       "      <td>-0.067803</td>\n",
       "      <td>63.753098</td>\n",
       "    </tr>\n",
       "    <tr>\n",
       "      <th>75%</th>\n",
       "      <td>5.032952</td>\n",
       "      <td>4.976095</td>\n",
       "      <td>95.892100</td>\n",
       "    </tr>\n",
       "    <tr>\n",
       "      <th>max</th>\n",
       "      <td>9.998120</td>\n",
       "      <td>9.998084</td>\n",
       "      <td>198.125080</td>\n",
       "    </tr>\n",
       "  </tbody>\n",
       "</table>\n",
       "</div>"
      ],
      "text/plain": [
       "                 x1            x2             y\n",
       "count  10000.000000  10000.000000  10000.000000\n",
       "mean       0.007651     -0.060636     67.106032\n",
       "std        5.792158      5.793058     42.506245\n",
       "min       -9.999530     -9.997501     -0.049575\n",
       "25%       -5.032269     -5.107907     32.112377\n",
       "50%        0.010792     -0.067803     63.753098\n",
       "75%        5.032952      4.976095     95.892100\n",
       "max        9.998120      9.998084    198.125080"
      ]
     },
     "execution_count": 15,
     "metadata": {},
     "output_type": "execute_result"
    }
   ],
   "source": [
    "# df = pd.read_csv(\"./data/simple_sum.csv\")\n",
    "df = pd.read_csv(\"./data/simple_sq_sum.csv\")\n",
    "df.describe()"
   ]
  },
  {
   "cell_type": "code",
   "execution_count": 16,
   "metadata": {},
   "outputs": [],
   "source": [
    "def add_features(df):\n",
    "    result_df = df.copy()\n",
    "    result_df[\"feature_x1_mult_x2\"] = df.apply(lambda row: row[\"x1\"] * row[\"x2\"], axis=1)\n",
    "    result_df[\"feature_x1_mult_x1\"] = df.apply(lambda row: row[\"x1\"] * row[\"x1\"], axis=1)\n",
    "    result_df[\"feature_x2_mult_x2\"] = df.apply(lambda row: row[\"x2\"] * row[\"x2\"], axis=1)    \n",
    "    return result_df"
   ]
  },
  {
   "cell_type": "code",
   "execution_count": 17,
   "metadata": {},
   "outputs": [],
   "source": [
    "features_df = add_features(df)"
   ]
  },
  {
   "cell_type": "code",
   "execution_count": 18,
   "metadata": {},
   "outputs": [],
   "source": [
    "msk = np.random.rand(len(features_df)) < 0.8\n",
    "train_ds = features_df[msk]\n",
    "test_ds = features_df[~msk]"
   ]
  },
  {
   "cell_type": "code",
   "execution_count": 19,
   "metadata": {},
   "outputs": [],
   "source": [
    "def pd_input_fn(df, y_label):\n",
    "    return tf.estimator.inputs.pandas_input_fn(\n",
    "        x=df,\n",
    "        y=df[y_label],\n",
    "        batch_size = 32,\n",
    "        num_epochs = 5,\n",
    "        shuffle = True,\n",
    "        queue_capacity = 1000,\n",
    "        num_threads = 1\n",
    "    )\n",
    "\n",
    "def pd_predict_input_fn(df):\n",
    "    return tf.estimator.inputs.pandas_input_fn(\n",
    "        x=df,\n",
    "        batch_size = 32,\n",
    "        num_epochs = 5,\n",
    "        shuffle = True,\n",
    "        queue_capacity = 1000,\n",
    "        num_threads = 1\n",
    "    )\n"
   ]
  },
  {
   "cell_type": "code",
   "execution_count": 20,
   "metadata": {},
   "outputs": [
    {
     "name": "stdout",
     "output_type": "stream",
     "text": [
      "INFO:tensorflow:Using default config.\n",
      "INFO:tensorflow:Using config: {'_model_dir': './tensorboard_logs/estimator_regression/', '_tf_random_seed': None, '_save_summary_steps': 100, '_save_checkpoints_steps': None, '_save_checkpoints_secs': 600, '_session_config': allow_soft_placement: true\n",
      "graph_options {\n",
      "  rewrite_options {\n",
      "    meta_optimizer_iterations: ONE\n",
      "  }\n",
      "}\n",
      ", '_keep_checkpoint_max': 5, '_keep_checkpoint_every_n_hours': 10000, '_log_step_count_steps': 100, '_train_distribute': None, '_device_fn': None, '_protocol': None, '_eval_distribute': None, '_experimental_distribute': None, '_service': None, '_cluster_spec': <tensorflow.python.training.server_lib.ClusterSpec object at 0x7fb30c74f9b0>, '_task_type': 'worker', '_task_id': 0, '_global_id_in_cluster': 0, '_master': '', '_evaluation_master': '', '_is_chief': True, '_num_ps_replicas': 0, '_num_worker_replicas': 1}\n",
      "INFO:tensorflow:Calling model_fn.\n",
      "INFO:tensorflow:Done calling model_fn.\n",
      "INFO:tensorflow:Create CheckpointSaverHook.\n",
      "INFO:tensorflow:Graph was finalized.\n",
      "INFO:tensorflow:Restoring parameters from ./tensorboard_logs/estimator_regression/model.ckpt-1252\n",
      "INFO:tensorflow:Running local_init_op.\n",
      "INFO:tensorflow:Done running local_init_op.\n",
      "INFO:tensorflow:Saving checkpoints for 1252 into ./tensorboard_logs/estimator_regression/model.ckpt.\n",
      "INFO:tensorflow:loss = 174418.17, step = 1253\n",
      "INFO:tensorflow:global_step/sec: 718.481\n",
      "INFO:tensorflow:loss = 79.690216, step = 1353 (0.141 sec)\n",
      "INFO:tensorflow:global_step/sec: 698.248\n",
      "INFO:tensorflow:loss = 29.329361, step = 1453 (0.143 sec)\n",
      "INFO:tensorflow:global_step/sec: 631.469\n",
      "INFO:tensorflow:loss = 35.92816, step = 1553 (0.159 sec)\n",
      "INFO:tensorflow:global_step/sec: 692.969\n",
      "INFO:tensorflow:loss = 34.735107, step = 1653 (0.143 sec)\n",
      "INFO:tensorflow:global_step/sec: 657.476\n",
      "INFO:tensorflow:loss = 23.064754, step = 1753 (0.153 sec)\n",
      "INFO:tensorflow:global_step/sec: 685.347\n",
      "INFO:tensorflow:loss = 15.565986, step = 1853 (0.146 sec)\n",
      "INFO:tensorflow:global_step/sec: 715.583\n",
      "INFO:tensorflow:loss = 15.451326, step = 1953 (0.140 sec)\n",
      "INFO:tensorflow:global_step/sec: 713.835\n",
      "INFO:tensorflow:loss = 14.505045, step = 2053 (0.142 sec)\n",
      "INFO:tensorflow:global_step/sec: 717.025\n",
      "INFO:tensorflow:loss = 11.907209, step = 2153 (0.137 sec)\n",
      "INFO:tensorflow:global_step/sec: 691.637\n",
      "INFO:tensorflow:loss = 9.134091, step = 2253 (0.145 sec)\n",
      "INFO:tensorflow:global_step/sec: 674.542\n",
      "INFO:tensorflow:loss = 10.6213665, step = 2353 (0.149 sec)\n",
      "INFO:tensorflow:global_step/sec: 693.247\n",
      "INFO:tensorflow:loss = 5.985214, step = 2453 (0.144 sec)\n",
      "INFO:tensorflow:Saving checkpoints for 2509 into ./tensorboard_logs/estimator_regression/model.ckpt.\n",
      "INFO:tensorflow:Loss for final step: 3.8190873.\n"
     ]
    },
    {
     "data": {
      "text/plain": [
       "<tensorflow.python.estimator.canned.dnn.DNNRegressor at 0x7fb30c74f710>"
      ]
     },
     "execution_count": 20,
     "metadata": {},
     "output_type": "execute_result"
    }
   ],
   "source": [
    "feature_columns = [\n",
    "    tf.feature_column.numeric_column(key=\"x1\", dtype=tf.float32),\n",
    "    tf.feature_column.numeric_column(key=\"x2\", dtype=tf.float32),\n",
    "    tf.feature_column.numeric_column(key=\"feature_x1_mult_x2\", dtype=tf.float32),\n",
    "    tf.feature_column.numeric_column(key=\"feature_x1_mult_x1\", dtype=tf.float32),\n",
    "    tf.feature_column.numeric_column(key=\"feature_x2_mult_x2\", dtype=tf.float32),\n",
    "]\n",
    "estimator = tf.estimator.DNNRegressor(\n",
    "    hidden_units=[10,8],\n",
    "    feature_columns=feature_columns,\n",
    "    model_dir=\"./tensorboard_logs/estimator_regression/\"\n",
    ")\n",
    "estimator.train(input_fn=pd_input_fn(train_ds, \"y\"))\n"
   ]
  },
  {
   "cell_type": "code",
   "execution_count": 21,
   "metadata": {},
   "outputs": [
    {
     "name": "stdout",
     "output_type": "stream",
     "text": [
      "INFO:tensorflow:Calling model_fn.\n",
      "INFO:tensorflow:Done calling model_fn.\n",
      "INFO:tensorflow:Starting evaluation at 2019-02-25-12:35:20\n",
      "INFO:tensorflow:Graph was finalized.\n",
      "INFO:tensorflow:Restoring parameters from ./tensorboard_logs/estimator_regression/model.ckpt-2509\n",
      "INFO:tensorflow:Running local_init_op.\n",
      "INFO:tensorflow:Done running local_init_op.\n",
      "INFO:tensorflow:Finished evaluation at 2019-02-25-12:35:21\n",
      "INFO:tensorflow:Saving dict for global step 2509: average_loss = 0.23922728, global_step = 2509, label/mean = 67.75833, loss = 7.6498003, prediction/mean = 67.784225\n",
      "INFO:tensorflow:Saving 'checkpoint_path' summary for global step 2509: ./tensorboard_logs/estimator_regression/model.ckpt-2509\n"
     ]
    },
    {
     "data": {
      "text/plain": [
       "{'average_loss': 0.23922728,\n",
       " 'global_step': 2509,\n",
       " 'label/mean': 67.75833,\n",
       " 'loss': 7.6498003,\n",
       " 'prediction/mean': 67.784225}"
      ]
     },
     "execution_count": 21,
     "metadata": {},
     "output_type": "execute_result"
    }
   ],
   "source": [
    "estimator.evaluate(input_fn=pd_input_fn(test_ds, \"y\"))\n"
   ]
  },
  {
   "cell_type": "code",
   "execution_count": 22,
   "metadata": {},
   "outputs": [
    {
     "name": "stdout",
     "output_type": "stream",
     "text": [
      "<generator object Estimator.predict at 0x7fb30ca25e60>\n",
      "INFO:tensorflow:Calling model_fn.\n",
      "INFO:tensorflow:Done calling model_fn.\n",
      "INFO:tensorflow:Graph was finalized.\n",
      "INFO:tensorflow:Restoring parameters from ./tensorboard_logs/estimator_regression/model.ckpt-2509\n",
      "INFO:tensorflow:Running local_init_op.\n",
      "INFO:tensorflow:Done running local_init_op.\n",
      "[{'predictions': array([20.225632], dtype=float32)}, {'predictions': array([20.225632], dtype=float32)}, {'predictions': array([20.225632], dtype=float32)}, {'predictions': array([20.225632], dtype=float32)}, {'predictions': array([20.225632], dtype=float32)}]\n"
     ]
    }
   ],
   "source": [
    "estimate_df = add_features(pd.DataFrame(data={\"x1\":[2.0], \"x2\":[4.0]}))\n",
    "    \n",
    "\n",
    "predictions = estimator.predict(input_fn=pd_predict_input_fn(estimate_df))\n",
    "print(predictions)\n",
    "print(list(predictions))\n",
    "# print(list(predictions)[0])\n",
    "    "
   ]
  },
  {
   "cell_type": "code",
   "execution_count": 63,
   "metadata": {},
   "outputs": [
    {
     "name": "stdout",
     "output_type": "stream",
     "text": [
      "INFO:tensorflow:Calling model_fn.\n",
      "INFO:tensorflow:Done calling model_fn.\n",
      "INFO:tensorflow:Signatures INCLUDED in export for Classify: None\n",
      "INFO:tensorflow:Signatures INCLUDED in export for Regress: None\n",
      "INFO:tensorflow:Signatures INCLUDED in export for Predict: ['predict']\n",
      "INFO:tensorflow:Signatures INCLUDED in export for Train: None\n",
      "INFO:tensorflow:Signatures INCLUDED in export for Eval: None\n",
      "INFO:tensorflow:Signatures EXCLUDED from export because they cannot be be served via TensorFlow Serving APIs:\n",
      "INFO:tensorflow:'serving_default' : Regression input must be a single string Tensor; got {'x1': <tf.Tensor 'x1:0' shape=(1,) dtype=float32>, 'x2': <tf.Tensor 'x2:0' shape=(1,) dtype=float32>, 'feature_x1_mult_x1': <tf.Tensor 'x1_x1:0' shape=(1,) dtype=float32>, 'feature_x1_mult_x2': <tf.Tensor 'x1_x2:0' shape=(1,) dtype=float32>, 'feature_x2_mult_x2': <tf.Tensor 'x2_x2:0' shape=(1,) dtype=float32>}\n",
      "INFO:tensorflow:'regression' : Regression input must be a single string Tensor; got {'x1': <tf.Tensor 'x1:0' shape=(1,) dtype=float32>, 'x2': <tf.Tensor 'x2:0' shape=(1,) dtype=float32>, 'feature_x1_mult_x1': <tf.Tensor 'x1_x1:0' shape=(1,) dtype=float32>, 'feature_x1_mult_x2': <tf.Tensor 'x1_x2:0' shape=(1,) dtype=float32>, 'feature_x2_mult_x2': <tf.Tensor 'x2_x2:0' shape=(1,) dtype=float32>}\n",
      "WARNING:tensorflow:Export includes no default signature!\n",
      "INFO:tensorflow:Restoring parameters from ./tensorboard_logs/estimator_regression/model.ckpt-2509\n",
      "INFO:tensorflow:Assets added to graph.\n",
      "INFO:tensorflow:No assets to write.\n",
      "INFO:tensorflow:SavedModel written to: ./export/temp-b'1551165050'/saved_model.pb\n"
     ]
    },
    {
     "data": {
      "text/plain": [
       "b'./export/1551165050'"
      ]
     },
     "execution_count": 63,
     "metadata": {},
     "output_type": "execute_result"
    }
   ],
   "source": [
    "def serving_input_receiver_fn():\n",
    "    \"\"\"\n",
    "    input placeholder\n",
    "    \"\"\"\n",
    "    inputs = {\n",
    "        \"x1\": tf.placeholder(shape=[1], dtype=tf.float32, name=\"x1\"),\n",
    "        \"x2\": tf.placeholder(shape=[1], dtype=tf.float32, name=\"x2\"),\n",
    "        \"feature_x1_mult_x1\": tf.placeholder(shape=[1], dtype=tf.float32, name=\"x1_x1\"),\n",
    "        \"feature_x1_mult_x2\": tf.placeholder(shape=[1], dtype=tf.float32, name=\"x1_x2\"),\n",
    "        \"feature_x2_mult_x2\": tf.placeholder(shape=[1], dtype=tf.float32, name=\"x2_x2\")\n",
    "    }\n",
    "    return tf.estimator.export.ServingInputReceiver(inputs, inputs)\n",
    "\n",
    "\n",
    "estimator.export_savedmodel(export_dir_base=\"./export/\", serving_input_receiver_fn=serving_input_receiver_fn)"
   ]
  },
  {
   "cell_type": "code",
   "execution_count": 68,
   "metadata": {},
   "outputs": [
    {
     "name": "stdout",
     "output_type": "stream",
     "text": [
      "INFO:tensorflow:Restoring parameters from export/1551165050/variables/variables\n",
      "INFO:tensorflow:Froze 6 variables.\n",
      "INFO:tensorflow:Converted 6 variables to const ops.\n"
     ]
    }
   ],
   "source": [
    "tf.reset_default_graph()\n",
    "with tf.Session() as sess:\n",
    "    tf.saved_model.loader.load(\n",
    "        sess,\n",
    "        [tf.saved_model.tag_constants.SERVING],\n",
    "        \"export/1551165050\"\n",
    "    )\n",
    "    train_writer = tf.summary.FileWriter('tensorboard_logs/loaded/', sess.graph)\n",
    "    output_graph_def = tf.graph_util.convert_variables_to_constants(\n",
    "        sess,\n",
    "#         tf.get_default_graph().as_graph_def(),\n",
    "        sess.graph.as_graph_def(),\n",
    "#         [\"x1\", \"x2\", \"x1_x1\", \"x1_x2\", \"x2_x2\"] здесь же аутпуты, а не инпуты, сука!\n",
    "        [\"dnn/logits/BiasAdd\"]        \n",
    "    )\n",
    "    output_graph = \"export/estimator_regression.pb\"\n",
    "    with tf.gfile.GFile(output_graph, \"wb\") as f:\n",
    "        f.write(output_graph_def.SerializeToString())\n",
    "\n"
   ]
  },
  {
   "cell_type": "code",
   "execution_count": null,
   "metadata": {},
   "outputs": [],
   "source": []
  }
 ],
 "metadata": {
  "kernelspec": {
   "display_name": "Python 3",
   "language": "python",
   "name": "python3"
  },
  "language_info": {
   "codemirror_mode": {
    "name": "ipython",
    "version": 3
   },
   "file_extension": ".py",
   "mimetype": "text/x-python",
   "name": "python",
   "nbconvert_exporter": "python",
   "pygments_lexer": "ipython3",
   "version": "3.6.7"
  }
 },
 "nbformat": 4,
 "nbformat_minor": 1
}
