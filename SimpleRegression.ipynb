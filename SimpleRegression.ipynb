{
 "cells": [
  {
   "cell_type": "code",
   "execution_count": 66,
   "metadata": {
    "collapsed": true
   },
   "outputs": [],
   "source": [
    "import random\n",
    "import csv\n",
    "\n",
    "\n",
    "def f(x1, x2):\n",
    "    return x1 + x2\n",
    "\n",
    "\n",
    "x1_min = -10.0\n",
    "x2_min = -10.0\n",
    "x1_max = 10.0\n",
    "x2_max = 10.0\n",
    "\n",
    "with open('data/dataset.csv', 'w') as csvfile:\n",
    "    writer = csv.writer(csvfile)\n",
    "    writer.writerow([\"x1\", \"x2\", \"y\"])\n",
    "    for i in range(0, 10000):\n",
    "        x1 = random.uniform(x1_min, x1_max)\n",
    "        x2 = random.uniform(x2_min, x2_max)\n",
    "        y = f(x1, x2) + random.uniform(-0.1, 0.1)\n",
    "        writer.writerow([x1, x2, y])\n"
   ]
  },
  {
   "cell_type": "code",
   "execution_count": 98,
   "metadata": {},
   "outputs": [
    {
     "name": "stdout",
     "output_type": "stream",
     "text": [
      "data 10000\n",
      "train 6000 6000\n",
      "test 2000 2000\n",
      "valid 2000 2000\n"
     ]
    }
   ],
   "source": [
    "import csv\n",
    "import numpy as np\n",
    "import tensorflow as tf\n",
    "from matplotlib import pyplot as plt\n",
    "from sklearn.preprocessing import scale\n",
    "\n",
    "data = []\n",
    "with open('data/dataset.csv') as csvfile:\n",
    "    reader = csv.reader(csvfile)\n",
    "    next(reader, None)\n",
    "    for row in reader:\n",
    "        float_row = list(map(float, row))\n",
    "        data.append(float_row)\n",
    "\n",
    "npdata = np.array(data)\n",
    "total = len(npdata)\n",
    "\n",
    "train_size = int(0.6 * total)\n",
    "valid_size = int(0.2 * total)\n",
    "test_size = int(0.2 * total)\n",
    "\n",
    "index_1 = 0\n",
    "index_2 = train_size\n",
    "index_3 = train_size + valid_size\n",
    "index_4 = train_size + valid_size + test_size\n",
    "\n",
    "train_x = npdata[index_1:index_2, :2]\n",
    "train_y = npdata[index_1:index_2, 2:]\n",
    "\n",
    "valid_x = npdata[index_2:index_3, :2]\n",
    "valid_y = npdata[index_2:index_3, 2:]\n",
    "\n",
    "test_x = npdata[index_3:index_4, :2]\n",
    "test_y = npdata[index_3:index_4, 2:]\n",
    "\n",
    "print(\"data\", len(data))\n",
    "print(\"train\", len(train_x), len(train_y))\n",
    "print(\"test\", len(test_x), len(test_y))\n",
    "print(\"valid\", len(valid_x), len(valid_y))\n"
   ]
  },
  {
   "cell_type": "code",
   "execution_count": 72,
   "metadata": {},
   "outputs": [
    {
     "name": "stdout",
     "output_type": "stream",
     "text": [
      "0 53.206759230731706\n",
      "100 35.487587564380085\n",
      "200 23.66971200227025\n",
      "300 15.787728402073038\n",
      "400 10.530803664858864\n",
      "500 7.024672888266272\n",
      "600 4.686241763131585\n",
      "700 3.1266132142690926\n",
      "800 2.0864107169243176\n",
      "900 1.3926419704904076\n",
      "1000 0.9299289767506447\n",
      "1100 0.6213198362314409\n",
      "1200 0.4154911028368771\n",
      "1300 0.2782123433619783\n",
      "1400 0.18665338998458483\n",
      "1500 0.1255875376308523\n",
      "1600 0.08485924930663742\n",
      "1700 0.05769523026565448\n",
      "1800 0.0395779906757109\n",
      "1900 0.027494562526708264\n",
      "2000 0.0194354274214846\n",
      "2100 0.014060323735851574\n",
      "2200 0.010475354819284487\n",
      "2300 0.008084330009341688\n",
      "2400 0.006489615625263063\n",
      "2500 0.005426006921110327\n",
      "2600 0.004716623560281702\n",
      "2700 0.004243493810209519\n",
      "2800 0.003927935470323971\n",
      "2900 0.003717470794109\n"
     ]
    },
    {
     "data": {
      "image/png": "[encoded data removed]",
      "text/plain": [
       "<Figure size 432x288 with 1 Axes>"
      ]
     },
     "metadata": {},
     "output_type": "display_data"
    },
    {
     "name": "stdout",
     "output_type": "stream",
     "text": [
      "Validation error = 0.027836396433169767 \n",
      "\n",
      "Test error = 0.11336658395877398 \n",
      "\n"
     ]
    }
   ],
   "source": [
    "tf.reset_default_graph()\n",
    "\n",
    "w = tf.Variable(tf.truncated_normal([2, 1], mean=0.0, stddev=1.0, dtype=tf.float64), name=\"w\")\n",
    "b = tf.Variable(tf.zeros(1, dtype=tf.float64), name=\"b\")\n",
    "\n",
    "\n",
    "def calc(x, y):\n",
    "    # Returns predictions and error\n",
    "    predictions = tf.add(b, tf.matmul(x, w, name=\"matmul\"), name=\"prediction\")\n",
    "    error = tf.reduce_mean(tf.square(y - predictions), name=\"error\")\n",
    "    return [predictions, error]\n",
    "\n",
    "\n",
    "y, cost = calc(train_x, train_y)\n",
    "# Feel free to tweak these 2 values:\n",
    "learning_rate = 0.001\n",
    "epochs = 3000\n",
    "points = [[], []]  # You'll see later why I need this\n",
    "\n",
    "init = tf.global_variables_initializer()\n",
    "optimizer = tf.train.GradientDescentOptimizer(learning_rate).minimize(cost)\n",
    "\n",
    "with tf.Session() as sess:\n",
    "    sess.run(init)\n",
    "    train_writer = tf.summary.FileWriter('logs/simple_regression/train', sess.graph)\n",
    "    for i in list(range(epochs)):\n",
    "        sess.run(optimizer)\n",
    "        if i % 10 == 0.:\n",
    "            points[0].append(i + 1)\n",
    "            points[1].append(sess.run(cost))\n",
    "        if i % 100 == 0:\n",
    "            print(i, sess.run(cost))\n",
    "    plt.plot(points[0], points[1], 'r--')\n",
    "    # plt.axis([0, epochs, 50, 600])\n",
    "    plt.show()\n",
    "\n",
    "    valid_cost = calc(valid_x, valid_y)[1]\n",
    "    print('Validation error =', sess.run(valid_cost), '\\n')\n",
    "    test_cost = calc(test_x, test_y)[1]\n",
    "    print('Test error =', sess.run(test_cost), '\\n')\n"
   ]
  },
  {
   "cell_type": "code",
   "execution_count": 75,
   "metadata": {
    "collapsed": true
   },
   "outputs": [
    {
     "name": "stdout",
     "output_type": "stream",
     "text": [
      "INFO:tensorflow:Froze 2 variables.\n",
      "INFO:tensorflow:Converted 2 variables to const ops.\n"
     ]
    }
   ],
   "source": [
    "with tf.Session() as sess:\n",
    "    sess.run(init)\n",
    "    output_graph_def = tf.graph_util.convert_variables_to_constants(\n",
    "        sess,  # The session is used to retrieve the weights\n",
    "        tf.get_default_graph().as_graph_def(),  # The graph_def is used to retrieve the nodes \n",
    "        [\"prediction\"]\n",
    "    )\n",
    "\n",
    "    output_graph = \"models/simple_regression/frozen_model.pb\"\n",
    "    with tf.gfile.GFile(output_graph, \"wb\") as f:\n",
    "        f.write(output_graph_def.SerializeToString())\n"
   ]
  },
  {
   "cell_type": "code",
   "execution_count": 99,
   "metadata": {},
   "outputs": [
    {
     "name": "stdout",
     "output_type": "stream",
     "text": [
      "0 229.35258\n",
      "100 0.0037079353\n",
      "200 0.0033633988\n",
      "300 0.0033411735\n",
      "400 0.00332628\n",
      "500 0.003316292\n",
      "600 0.0033095968\n",
      "700 0.0033051115\n",
      "800 0.0033021015\n",
      "900 0.0033000854\n",
      "1000 0.0032987348\n",
      "1100 0.0032978274\n",
      "1200 0.0032972195\n",
      "1300 0.0032968114\n",
      "1400 0.003296538\n",
      "1500 0.003296355\n",
      "1600 0.0032962337\n",
      "1700 0.0032961515\n",
      "1800 0.0032960968\n",
      "1900 0.0032960593\n",
      "2000 0.0032960344\n",
      "2100 0.0032960167\n",
      "2200 0.003296007\n",
      "2300 0.0032959988\n",
      "2400 0.0032959932\n",
      "2500 0.0032959913\n",
      "2600 0.00329599\n",
      "2700 0.0032959862\n",
      "2800 0.0032959855\n",
      "2900 0.0032959862\n",
      "3000 0.0032959848\n",
      "3100 0.0032959846\n",
      "3200 0.0032959844\n",
      "3300 0.003295984\n",
      "3400 0.0032959837\n",
      "3500 0.0032959837\n",
      "3600 0.0032959846\n",
      "3700 0.0032959837\n",
      "3800 0.0032959844\n",
      "3900 0.0032959848\n",
      "4000 0.0032959844\n",
      "4100 0.0032959848\n",
      "4200 0.0032959844\n",
      "4300 0.0032959837\n",
      "4400 0.0032959837\n",
      "4500 0.0032959844\n",
      "4600 0.0032959837\n",
      "4700 0.0032959837\n",
      "4800 0.003295984\n",
      "4900 0.0032959837\n"
     ]
    },
    {
     "data": {
      "image/png": "[encoded data removed]",
      "text/plain": [
       "<Figure size 432x288 with 1 Axes>"
      ]
     },
     "metadata": {},
     "output_type": "display_data"
    },
    {
     "name": "stdout",
     "output_type": "stream",
     "text": [
      "Test error 0.0033500206\n",
      "Validation error 0.0033087553\n",
      "INFO:tensorflow:Froze 2 variables.\n",
      "INFO:tensorflow:Converted 2 variables to const ops.\n"
     ]
    }
   ],
   "source": [
    "tf.reset_default_graph()\n",
    "\n",
    "x = tf.placeholder(dtype=tf.float32, shape=(None, 2), name=\"input/x\")\n",
    "y = tf.placeholder(dtype=tf.float32, shape=(None, 1), name=\"input/y\")\n",
    "w = tf.Variable(tf.truncated_normal([2, 1], mean=0.0, stddev=1.0, dtype=tf.float32), name=\"w\")\n",
    "b = tf.Variable(tf.zeros(1, dtype=tf.float32), name=\"b\")\n",
    "predictions = tf.add(b, tf.matmul(x, w), name=\"output/prediction\")\n",
    "error = tf.reduce_mean(tf.square(y - predictions), name=\"output/error\")\n",
    "\n",
    "points = [[], []]\n",
    "learning_rate = 0.001\n",
    "epochs = 5000\n",
    "optimizer = tf.train.GradientDescentOptimizer(learning_rate).minimize(error, var_list=[w, b])\n",
    "\n",
    "with tf.Session() as sess:\n",
    "    train_writer = tf.summary.FileWriter('logs/simple_regression_nodes/train', sess.graph)\n",
    "    w.initializer.run()\n",
    "    b.initializer.run()\n",
    "\n",
    "    # обучение\n",
    "\n",
    "    feed_dict = {\n",
    "        x: train_x,\n",
    "        y: train_y\n",
    "    }\n",
    "    # result = sess.run([predictions, error], feed_dict=feed_dict)\n",
    "    # print(result)\n",
    "    for i in list(range(epochs)):\n",
    "        result = sess.run([optimizer, predictions, error], feed_dict=feed_dict)\n",
    "        current_error = result[2]\n",
    "        # print(result)\n",
    "        if i % 10 == 0.:\n",
    "            points[0].append(i + 1)\n",
    "            points[1].append(current_error)\n",
    "        if i % 100 == 0:\n",
    "            print(i, current_error)\n",
    "    plt.plot(points[0], points[1], 'r--')\n",
    "    # plt.axis([0, epochs, 50, 600])\n",
    "    plt.show()\n",
    "\n",
    "    # проверка\n",
    "    result = sess.run(\n",
    "        [error],\n",
    "        feed_dict={\n",
    "            x: test_x,\n",
    "            y: test_y\n",
    "        }\n",
    "    )\n",
    "    print(\"Test error\", result[0])\n",
    "    \n",
    "    # валидация\n",
    "    result = sess.run(\n",
    "        [error],\n",
    "        feed_dict={\n",
    "            x: valid_x,\n",
    "            y: valid_y\n",
    "        }\n",
    "    )\n",
    "    print(\"Validation error\", result[0])    \n",
    "    \n",
    "    output_graph_def = tf.graph_util.convert_variables_to_constants(\n",
    "        sess,  # The session is used to retrieve the weights\n",
    "        tf.get_default_graph().as_graph_def(),  # The graph_def is used to retrieve the nodes \n",
    "        [\"output/prediction\"]\n",
    "    )\n",
    "\n",
    "    output_graph = \"models/simple_regression_nodes/simple_regression_nodes.pb\"\n",
    "    with tf.gfile.GFile(output_graph, \"wb\") as f:\n",
    "        f.write(output_graph_def.SerializeToString())\n",
    "\n"
   ]
  },
  {
   "cell_type": "code",
   "execution_count": null,
   "metadata": {},
   "outputs": [],
   "source": []
  }
 ],
 "metadata": {
  "kernelspec": {
   "display_name": "Python 3",
   "language": "python",
   "name": "python3"
  },
  "language_info": {
   "codemirror_mode": {
    "name": "ipython",
    "version": 3
   },
   "file_extension": ".py",
   "mimetype": "text/x-python",
   "name": "python",
   "nbconvert_exporter": "python",
   "pygments_lexer": "ipython3",
   "version": "3.6.7"
  }
 },
 "nbformat": 4,
 "nbformat_minor": 1
}
